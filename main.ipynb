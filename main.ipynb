{
 "cells": [
  {
   "cell_type": "code",
   "execution_count": 1,
   "metadata": {},
   "outputs": [],
   "source": [
    "import csv"
   ]
  },
  {
   "cell_type": "code",
   "execution_count": 9,
   "metadata": {},
   "outputs": [],
   "source": [
    "file_to_load = \"budget_data.csv\"\n",
    "\n",
    "file_to_output = \"budget_analysis.txt\""
   ]
  },
  {
   "cell_type": "code",
   "execution_count": 11,
   "metadata": {},
   "outputs": [],
   "source": [
    "total_months = 0\n",
    "\n",
    "prev_pl = 0\n",
    "\n",
    "month_of_change = []\n",
    "\n",
    "pl_change_list = []\n",
    "\n",
    "greatest_increase = [\"\", 0]\n",
    "\n",
    "greatest_decrease = [\"\", 9999999999999999999]\n",
    "\n",
    "total_pl = 0\n",
    "\n"
   ]
  },
  {
   "cell_type": "code",
   "execution_count": 17,
   "metadata": {},
   "outputs": [
    {
     "ename": "KeyError",
     "evalue": "'PL'",
     "output_type": "error",
     "traceback": [
      "\u001b[1;31m---------------------------------------------------------------------------\u001b[0m",
      "\u001b[1;31mKeyError\u001b[0m                                  Traceback (most recent call last)",
      "\u001b[1;32m<ipython-input-17-49067b9efdee>\u001b[0m in \u001b[0;36m<module>\u001b[1;34m\u001b[0m\n\u001b[0;32m      7\u001b[0m         \u001b[0mtotal_months\u001b[0m \u001b[1;33m=\u001b[0m \u001b[0mtotal_months\u001b[0m \u001b[1;33m+\u001b[0m \u001b[1;36m1\u001b[0m\u001b[1;33m\u001b[0m\u001b[1;33m\u001b[0m\u001b[0m\n\u001b[0;32m      8\u001b[0m \u001b[1;33m\u001b[0m\u001b[0m\n\u001b[1;32m----> 9\u001b[1;33m         \u001b[0mtotal_pl\u001b[0m \u001b[1;33m=\u001b[0m \u001b[0mtotal_pl\u001b[0m \u001b[1;33m+\u001b[0m \u001b[0mint\u001b[0m\u001b[1;33m(\u001b[0m\u001b[0mrow\u001b[0m\u001b[1;33m[\u001b[0m\u001b[1;34m\"PL\"\u001b[0m\u001b[1;33m]\u001b[0m\u001b[1;33m)\u001b[0m\u001b[1;33m\u001b[0m\u001b[1;33m\u001b[0m\u001b[0m\n\u001b[0m\u001b[0;32m     10\u001b[0m \u001b[1;33m\u001b[0m\u001b[0m\n\u001b[0;32m     11\u001b[0m \u001b[1;33m\u001b[0m\u001b[0m\n",
      "\u001b[1;31mKeyError\u001b[0m: 'PL'"
     ]
    }
   ],
   "source": [
    "with open(file_to_load) as PL:\n",
    "\n",
    "    reader = csv.DictReader(PL)\n",
    "\n",
    "    for row in reader:\n",
    "        \n",
    "        total_months = total_months + 1\n",
    "\n",
    "        total_pl = total_pl + int(row[\"PL\"])\n",
    "        \n",
    "        \n",
    "        \n",
    "        pl_change = int(row[[\"PL\"]]) - prev_pl\n",
    "\n",
    "        prev_pl = int(row[\"PL\"])\n",
    "\n",
    "        pl_change_list = pl_change_list + [pl_change]\n",
    "\n",
    "        month_of_change = month_of_change + [row[\"Date\"]]\n",
    "        \n",
    "        if (pl_change > greatest_increase[1]):\n",
    "\n",
    "            greatest_increase[0] = row[\"Date\"]\n",
    "\n",
    "            greatest_increase[1] = pl_change\n",
    "            \n",
    "            if (pl_change < greatest_decrease[1]):\n",
    "\n",
    "                greatest_decrease[0] = row[\"Date\"]\n",
    "\n",
    "                greatest_decrease[1] = pl_change\n",
    "            \n",
    "            \n",
    "pl_avg = sum(pl_change_list) / len(pl_change_list)\n",
    "\n",
    "output = (\n",
    "\n",
    "    f\"\\nFinancial Analysis\\n\"\n",
    "\n",
    "    f\"----------------------------\\n\"\n",
    "\n",
    "    f\"Total Months: {total_months}\\n\"\n",
    "\n",
    "    f\"Total Profit: ${total_pl}\\n\"\n",
    "\n",
    "    f\"Average Profit Change: ${pl_avg}\\n\"\n",
    "\n",
    "    f\"Greatest Increase in Profit: {greatest_increase[0]} (${greatest_increase[1]})\\n\"\n",
    "\n",
    "    f\"Greatest Decrease in Profit: {greatest_decrease[0]} (${greatest_decrease[1]})\\n\")\n",
    "\n",
    "print(output)\n",
    "\n",
    "with open(file_to_output, \"w\") as txt_file:\n",
    "\n",
    "    txt_file.write(output)"
   ]
  },
  {
   "cell_type": "code",
   "execution_count": null,
   "metadata": {},
   "outputs": [],
   "source": []
  }
 ],
 "metadata": {
  "kernelspec": {
   "display_name": "Python 3",
   "language": "python",
   "name": "python3"
  },
  "language_info": {
   "codemirror_mode": {
    "name": "ipython",
    "version": 3
   },
   "file_extension": ".py",
   "mimetype": "text/x-python",
   "name": "python",
   "nbconvert_exporter": "python",
   "pygments_lexer": "ipython3",
   "version": "3.7.6"
  }
 },
 "nbformat": 4,
 "nbformat_minor": 4
}
