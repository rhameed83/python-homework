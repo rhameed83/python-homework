{
 "cells": [
  {
   "cell_type": "code",
   "execution_count": 3,
   "metadata": {},
   "outputs": [
    {
     "name": "stdout",
     "output_type": "stream",
     "text": [
      "Financial Analysis\n",
      "----------------------------\n",
      "Total Months:  86\n",
      "Total:  38382578\n",
      "Average  Change: $ 454112.52\n",
      "Greatest Increase in Profits: Feb-2012 ($1926159)\n",
      "Greatest Decrease in Profits: Sep-2013 ($-2196167)\n"
     ]
    }
   ],
   "source": [
    "from pathlib import Path\n",
    "import csv\n",
    "\n",
    "csvpath = Path('../PyBank/budget_data.csv')\n",
    "\n",
    "\n",
    "month_count=0\n",
    "totalpl=0\n",
    "average_change=0\n",
    "greatest_increase=0\n",
    "greatest_decrease=0\n",
    "prev=0\n",
    "gloss=0\n",
    "ggain=0\n",
    "temp=[]\n",
    "temp2=[]\n",
    "month=[]\n",
    "\n",
    "with open(csvpath, 'r') as csvfile:\n",
    "\n",
    "    csvreader = csv.reader(csvfile, delimiter=',')\n",
    "    csv_header = next(csvreader)\n",
    "   \n",
    "\n",
    "    for row in csvreader:\n",
    "\n",
    "        \n",
    "        month_count+=1\n",
    "        totalpl+=int(row[1])\n",
    "        \n",
    "        \n",
    "        change=float(row[1])-prev\n",
    "        temp.append(change)\n",
    "        prev=float(row[1])\n",
    "        month.append(row[0])\n",
    "        \n",
    "        \n",
    "        \n",
    "        \n",
    "  \n",
    "        \n",
    "\n",
    "average=round((sum(temp)+totalpl)/len(temp),2)\n",
    "min_loc=temp.index(min(temp))\n",
    "max_loc=temp.index(max(temp))\n",
    "\n",
    "minimum=min(temp)\n",
    "maximum=max(temp)\n",
    "\n",
    "\n",
    "print('Financial Analysis')\n",
    "print('----------------------------')\n",
    "print('Total Months: ', month_count)\n",
    "print('Total: ', totalpl)\n",
    "print('Average  Change: $', average)\n",
    "print(\"Greatest Increase in Profits: \" + str(month[max_loc]) + \" ($\" + str(int(maximum)) + \")\")\n",
    "print(\"Greatest Decrease in Profits: \" + str(month[min_loc]) + \" ($\" + str(int(minimum))+ \")\")"
   ]
  },
  {
   "cell_type": "code",
   "execution_count": null,
   "metadata": {},
   "outputs": [],
   "source": []
  }
 ],
 "metadata": {
  "kernelspec": {
   "display_name": "Python 3",
   "language": "python",
   "name": "python3"
  },
  "language_info": {
   "codemirror_mode": {
    "name": "ipython",
    "version": 3
   },
   "file_extension": ".py",
   "mimetype": "text/x-python",
   "name": "python",
   "nbconvert_exporter": "python",
   "pygments_lexer": "ipython3",
   "version": "3.7.6"
  }
 },
 "nbformat": 4,
 "nbformat_minor": 4
}
